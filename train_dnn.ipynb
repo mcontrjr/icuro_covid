{
 "cells": [
  {
   "cell_type": "markdown",
   "metadata": {},
   "source": [
    "# Connect your Drive to Google Colab"
   ]
  },
  {
   "cell_type": "code",
   "execution_count": null,
   "metadata": {},
   "outputs": [],
   "source": [
    "from google.colab import drive\n",
    "drive.mount('/content/drive')"
   ]
  },
  {
   "cell_type": "markdown",
   "metadata": {},
   "source": [
    "# Clone Darknet repo and copy Drive contents"
   ]
  },
  {
   "cell_type": "code",
   "execution_count": null,
   "metadata": {},
   "outputs": [],
   "source": [
    "!ls\n",
    "!rm -fr darknet\n",
    "!git clone https://github.com/AlexeyAB/darknet/\n",
    "# View New Directory in Darknet"
   ]
  },
  {
   "cell_type": "code",
   "execution_count": null,
   "metadata": {},
   "outputs": [],
   "source": [
    "cp drive/'My Drive'/'Google Colab'/data_for_colab.zip /content/darknet"
   ]
  },
  {
   "cell_type": "code",
   "execution_count": null,
   "metadata": {},
   "outputs": [],
   "source": [
    "cd darknet"
   ]
  },
  {
   "cell_type": "code",
   "execution_count": null,
   "metadata": {},
   "outputs": [],
   "source": [
    "!ls \n",
    "!unzip data_for_colab"
   ]
  },
  {
   "cell_type": "markdown",
   "metadata": {},
   "source": [
    "# Upload train.txt and test.txt"
   ]
  },
  {
   "cell_type": "code",
   "execution_count": null,
   "metadata": {},
   "outputs": [],
   "source": [
    "# Upload widget is only available when the cell has been executed in the current \n",
    "# browser session. \n",
    "# Please rerun this cell to enable.\n",
    "\n",
    "from google.colab import files\n",
    "uploaded = files.upload() \n",
    "for name, data in uploaded.items():\n",
    "  with open(name, 'wb') as f:\n",
    "    f.write(data)\n",
    "    print ('saved file', name)"
   ]
  },
  {
   "cell_type": "markdown",
   "metadata": {},
   "source": [
    "# Upgrade and Install Packages onto host computer"
   ]
  },
  {
   "cell_type": "code",
   "execution_count": 1,
   "metadata": {},
   "outputs": [
    {
     "name": "stdout",
     "output_type": "stream",
     "text": [
      "/bin/sh: apt-get: command not found\n",
      "/bin/sh: apt-get: command not found\n",
      "/bin/sh: apt-get: command not found\n",
      "/bin/sh: apt-get: command not found\n",
      "/bin/sh: apt-get: command not found\n",
      "/bin/sh: apt-get: command not found\n",
      "/bin/sh: cmake: command not found\n",
      "/bin/sh: apt-get: command not found\n",
      "/bin/sh: apt-get: command not found\n"
     ]
    }
   ],
   "source": [
    "!apt-get update\n",
    "!apt-get upgrade\n",
    "!apt-get install build-essential\n",
    "!apt-get install cmake git libgtk2.0-dev pkg-config libavcodec-dev libavformat-dev libswscale-dev\n",
    "!apt-get install libavcodec-dev libavformat-dev libswscale-d\n",
    "!apt-get -y install cmake\n",
    "!which cmake\n",
    "!cmake --version\n",
    "!apt-get install libopencv-dev\n",
    "!apt-get install vim"
   ]
  },
  {
   "cell_type": "markdown",
   "metadata": {},
   "source": [
    "# Modify Makefile"
   ]
  },
  {
   "cell_type": "code",
   "execution_count": null,
   "metadata": {},
   "outputs": [],
   "source": [
    "!ls\n",
    "!sed -i 's/OPENCV=0/OPENCV=1/g' Makefile\n",
    "!sed -i 's/GPU=0/GPU=1/g' Makefile\n",
    "\n",
    "%cd ../\n",
    "!ls"
   ]
  },
  {
   "cell_type": "markdown",
   "metadata": {},
   "source": [
    "# Install and update GCC compilers"
   ]
  },
  {
   "cell_type": "code",
   "execution_count": null,
   "metadata": {},
   "outputs": [],
   "source": [
    "!apt install g++-5\n",
    "!apt install gcc-5\n",
    "\n",
    "!update-alternatives --install /usr/bin/gcc gcc /usr/bin/gcc-5 10\n",
    "!update-alternatives --install /usr/bin/gcc gcc /usr/bin/gcc-5 20\n",
    "!update-alternatives --install /usr/bin/g++ g++ /usr/bin/g++-5 10\n",
    "!update-alternatives --install /usr/bin/g++ g++ /usr/bin/g++-5 20\n",
    "!update-alternatives --install /usr/bin/cc cc /usr/bin/gcc 30\n",
    "!update-alternatives --set cc /usr/bin/gcc\n",
    "!update-alternatives --install /usr/bin/c++ c++ /usr/bin/g++ 30\n",
    "!update-alternatives --set c++ /usr/bin/g++"
   ]
  },
  {
   "cell_type": "markdown",
   "metadata": {},
   "source": [
    "# Install Cuda and connect to NVidia GPU"
   ]
  },
  {
   "cell_type": "code",
   "execution_count": null,
   "metadata": {},
   "outputs": [],
   "source": [
    "!apt update -qq;\n",
    "!wget https://developer.nvidia.com/compute/cuda/8.0/Prod2/local_installers/cuda-repo-ubuntu1604-8-0-local-ga2_8.0.61-1_amd64-deb\n",
    "!dpkg -i cuda-repo-ubuntu1604-8-0-local-ga2_8.0.61-1_amd64-deb\n",
    "!apt-get update -qq\n",
    "\n",
    "#Here were are installing compilers and creating some links\n",
    "!apt-get install cuda -y -qq #gcc-5 g++-5 \n",
    "#!ln -s /usr/bin/gcc-5 /usr/local/cuda/bin/gcc\n",
    "#!ln -s /usr/bin/g++-5 /usr/local/cuda/bin/g++\n",
    "!apt update\n",
    "!apt upgrade\n",
    "!apt install cuda-8.0 -y\n",
    "\n",
    "import tensorflow as tf\n",
    "device_name = tf.test.gpu_device_name()\n",
    "print(device_name)\n",
    "!/usr/local/cuda/bin/nvcc --version\n",
    "\n",
    "# Run makefile in content/darknet\n",
    "%cd darknet\n",
    "!make"
   ]
  },
  {
   "cell_type": "markdown",
   "metadata": {},
   "source": [
    "# Train DNN with data_for_colab folder"
   ]
  },
  {
   "cell_type": "markdown",
   "metadata": {},
   "source": [
    "### Edit .cfg to change training parameters. After 1000 epochs, weights will save under /backup under files. Double click to download. "
   ]
  },
  {
   "cell_type": "code",
   "execution_count": null,
   "metadata": {},
   "outputs": [],
   "source": [
    "!./darknet detector train data_for_colab/obj.data data_for_colab/yolov3.cfg data_for_colab/darknet53.conv.74 -dont_show"
   ]
  },
  {
   "cell_type": "markdown",
   "metadata": {},
   "source": [
    "# Code edited from rafiuddinkhan\n",
    "### https://github.com/rafiuddinkhan/Yolo-Training-GoogleColab"
   ]
  },
  {
   "cell_type": "code",
   "execution_count": null,
   "metadata": {},
   "outputs": [],
   "source": []
  }
 ],
 "metadata": {
  "kernelspec": {
   "display_name": "Python 3",
   "language": "python",
   "name": "python3"
  },
  "language_info": {
   "codemirror_mode": {
    "name": "ipython",
    "version": 3
   },
   "file_extension": ".py",
   "mimetype": "text/x-python",
   "name": "python",
   "nbconvert_exporter": "python",
   "pygments_lexer": "ipython3",
   "version": "3.7.6"
  }
 },
 "nbformat": 4,
 "nbformat_minor": 4
}
